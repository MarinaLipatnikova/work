{
 "cells": [
  {
   "cell_type": "code",
   "execution_count": 1,
   "id": "d351afc9",
   "metadata": {},
   "outputs": [],
   "source": [
    "import random\n",
    "import string"
   ]
  },
  {
   "cell_type": "code",
   "execution_count": 2,
   "id": "e125ea0d",
   "metadata": {},
   "outputs": [],
   "source": [
    "def key_gen(text):\n",
    "    simb = string.ascii_letters + string.digits\n",
    "    return ''.join(random.choice(simb) for i in range(len(text)))\n",
    "def gamm(text, key):\n",
    "    text_cypher = [hex(ord(i))[2:] for i in text]\n",
    "    key_cypher = [hex(ord(i))[2:] for i in key]\n",
    "    print(\"Текст в 16-ной системе: \", text_cypher, '\\nКлюч в 16-ной системе: ', key_cypher)\n",
    "    return ''.join(chr(int(a, 16)^int(b, 16)) for a,b in zip (text_cypher, key_cypher))"
   ]
  },
  {
   "cell_type": "code",
   "execution_count": 3,
   "id": "a4a5f4db",
   "metadata": {},
   "outputs": [
    {
     "name": "stdout",
     "output_type": "stream",
     "text": [
      "Текст в 16-ной системе:  ['41d', '430', '412', '430', '448', '438', '441', '445', '43e', '434', '44f', '449', '438', '439', '43e', '442', '31', '32', '30', '34'] \n",
      "Ключ в 16-ной системе:  ['58', '33', '52', '48', '33', '7a', '66', '77', '34', '6b', '74', '6f', '4b', '7a', '53', '48', '52', '70', '76', '5a']\n",
      "Текст в 16-ной системе:  ['412', '421', '435', '432', '435', '440', '43d', '44b', '439', '444', '438', '43b', '438', '430', '43b', '411', '430', '43d', '43a', '430'] \n",
      "Ключ в 16-ной системе:  ['58', '33', '52', '48', '33', '7a', '66', '77', '34', '6b', '74', '6f', '4b', '7a', '53', '48', '52', '70', '76', '5a']\n",
      "\n",
      "Зашифрованный текст1:  хЃрѸѻтЧвЊџлЦѳуѭЊcBFn \n",
      "Ключ:  X3RH3zfw4ktoKzSHRpvZ\n",
      "Зашифрованный текст2:  ъВѧѺІкћмЍЯьєѳъѨљѢэьѪ \n",
      "Ключ:  X3RH3zfw4ktoKzSHRpvZ\n"
     ]
    }
   ],
   "source": [
    "text1 = \"НаВашисходящийот1204\"\n",
    "text2 = \"ВСеверныйфилиалБанка\"\n",
    "key = key_gen(text1)\n",
    "cypher1 = gamm(text1, key)\n",
    "cypher2 = gamm(text2, key)\n",
    "print()\n",
    "print(\"Зашифрованный текст1: \", cypher1,'\\nКлюч: ', key)\n",
    "print(\"Зашифрованный текст2: \", cypher2,'\\nКлюч: ', key)"
   ]
  },
  {
   "cell_type": "code",
   "execution_count": 4,
   "id": "353b499f",
   "metadata": {},
   "outputs": [],
   "source": [
    "def f_tt(cypher1, cypher2, text1):\n",
    "    tcypher1 = [hex(ord(i))[2:] for i in cypher1]\n",
    "    tcypher2 = [hex(ord(i))[2:] for i in cypher2]\n",
    "    print(\"Шифротекст1 в 16-ной системе: \", tcypher1, '\\nШифротекст2 в 16-ной системе: ', tcypher2)\n",
    "    ttext1 = [hex(ord(i))[2:] for i in text1]\n",
    "    k = ''.join(chr(int(a, 16)^int(b, 16)) for a,b in zip (tcypher1, tcypher2))\n",
    "    k = [hex(ord(i))[2:] for i in k]\n",
    "    P2 = ''.join(chr(int(a, 16)^int(b, 16)) for a,b in zip (k, ttext1))\n",
    "    return P2"
   ]
  },
  {
   "cell_type": "code",
   "execution_count": 5,
   "id": "15b4e732",
   "metadata": {},
   "outputs": [
    {
     "name": "stdout",
     "output_type": "stream",
     "text": [
      "Шифротекст1 в 16-ной системе:  ['445', '403', '440', '478', '47b', '442', '427', '432', '40a', '45f', '43b', '426', '473', '443', '46d', '40a', '63', '42', '46', '6e'] \n",
      "Шифротекст2 в 16-ной системе:  ['44a', '412', '467', '47a', '406', '43a', '45b', '43c', '40d', '42f', '44c', '454', '473', '44a', '468', '459', '462', '44d', '44c', '46a']\n",
      "\n",
      "Текст2:  ВСеверныйфилиалБанка\n"
     ]
    }
   ],
   "source": [
    "P2 = f_tt(cypher1, cypher2, text1)\n",
    "print()\n",
    "print('Текст2: ', P2)"
   ]
  },
  {
   "cell_type": "code",
   "execution_count": 6,
   "id": "16b4ea83",
   "metadata": {},
   "outputs": [
    {
     "name": "stdout",
     "output_type": "stream",
     "text": [
      "Шифротекст1 в 16-ной системе:  ['445', '403', '440', '478', '47b', '442', '427', '432', '40a', '45f', '43b', '426', '473', '443', '46d', '40a', '63', '42', '46', '6e'] \n",
      "Шифротекст2 в 16-ной системе:  ['44a', '412', '467', '47a', '406', '43a', '45b', '43c', '40d', '42f', '44c', '454', '473', '44a', '468', '459', '462', '44d', '44c', '46a']\n",
      "\n",
      "Текст1:  НаВашисходящийот1204\n"
     ]
    }
   ],
   "source": [
    "P1 = f_tt(cypher1, cypher2, text2)\n",
    "print()\n",
    "print('Текст1: ', P1)"
   ]
  }
 ],
 "metadata": {
  "kernelspec": {
   "display_name": "Python 3 (ipykernel)",
   "language": "python",
   "name": "python3"
  },
  "language_info": {
   "codemirror_mode": {
    "name": "ipython",
    "version": 3
   },
   "file_extension": ".py",
   "mimetype": "text/x-python",
   "name": "python",
   "nbconvert_exporter": "python",
   "pygments_lexer": "ipython3",
   "version": "3.9.12"
  }
 },
 "nbformat": 4,
 "nbformat_minor": 5
}
