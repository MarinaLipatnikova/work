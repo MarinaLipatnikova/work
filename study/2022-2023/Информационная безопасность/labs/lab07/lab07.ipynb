{
 "cells": [
  {
   "cell_type": "code",
   "execution_count": 1,
   "id": "f76dfba6",
   "metadata": {},
   "outputs": [],
   "source": [
    "import random\n",
    "import string"
   ]
  },
  {
   "cell_type": "code",
   "execution_count": 2,
   "id": "77bd88ef",
   "metadata": {},
   "outputs": [],
   "source": [
    "def key_gen(text):\n",
    "    simb = string.ascii_letters + string.digits\n",
    "    return ''.join(random.choice(simb) for i in range(len(text)))\n",
    "def gamm(text, key):\n",
    "    text_cypher = [hex(ord(i))[2:] for i in text]\n",
    "    key_cypher = [hex(ord(i))[2:] for i in key]\n",
    "    print(\"Текст в 16-ной системе: \", text_cypher, '\\nКлюч в 16-ной системе: ', key_cypher)\n",
    "    return ''.join(chr(int(a, 16)^int(b, 16)) for a,b in zip (text_cypher, key_cypher))"
   ]
  },
  {
   "cell_type": "code",
   "execution_count": 3,
   "id": "eb7cbb4c",
   "metadata": {},
   "outputs": [
    {
     "name": "stdout",
     "output_type": "stream",
     "text": [
      "Текст в 16-ной системе:  ['421', '20', '41d', '43e', '432', '44b', '43c', '20', '413', '43e', '434', '43e', '43c', '2c', '20', '434', '440', '443', '437', '44c', '44f', '21'] \n",
      "Ключ в 16-ной системе:  ['48', '4a', '6f', '4c', '70', '4a', '66', '4b', '45', '66', '4a', '54', '4a', '51', '68', '67', '7a', '69', '71', '35', '42', '48']\n",
      "Зашифрованный текст:  ѩjѲѲтЁњkіјѾѪѶ}HѓкЪцѹЍi \n",
      "Ключ:  HJoLpJfKEfJTJQhgziq5BH\n"
     ]
    }
   ],
   "source": [
    "text = \"С Новым Годом, друзья!\"\n",
    "key = key_gen(text)\n",
    "cypher = gamm(text, key)\n",
    "print(\"Зашифрованный текст: \", cypher,'\\nКлюч: ', key)"
   ]
  },
  {
   "cell_type": "code",
   "execution_count": 4,
   "id": "71041d3e",
   "metadata": {},
   "outputs": [],
   "source": [
    "def key_f(text, text_c):\n",
    "    text1 = [hex(ord(i))[2:] for i in text]\n",
    "    text_c1 = [hex(ord(i))[2:] for i in text_c]\n",
    "    return ''.join(chr(int(a,16)^int(b,16)) for a,b in zip (text1, text_c1))"
   ]
  },
  {
   "cell_type": "code",
   "execution_count": 5,
   "id": "5f07c4a6",
   "metadata": {},
   "outputs": [
    {
     "name": "stdout",
     "output_type": "stream",
     "text": [
      "Ключ был:  HJoLpJfKEfJTJQhgziq5BH\n"
     ]
    }
   ],
   "source": [
    "print(\"Ключ был: \",key_f(text,cypher))"
   ]
  },
  {
   "cell_type": "code",
   "execution_count": 6,
   "id": "00ca32e4",
   "metadata": {},
   "outputs": [],
   "source": [
    "def text_f(cypher, key):\n",
    "    cypher1 = [hex(ord(i))[2:] for i in cypher]\n",
    "    key1 = [hex(ord(i))[2:] for i in key]\n",
    "    return ''.join(chr(int(a,16)^int(b,16)) for a,b in zip (cypher1, key1))"
   ]
  },
  {
   "cell_type": "code",
   "execution_count": 7,
   "id": "0cdd7f59",
   "metadata": {},
   "outputs": [
    {
     "name": "stdout",
     "output_type": "stream",
     "text": [
      "Текст был:  С Новым Годом, друзья!\n"
     ]
    }
   ],
   "source": [
    "print(\"Текст был: \", text_f(cypher,key))"
   ]
  }
 ],
 "metadata": {
  "kernelspec": {
   "display_name": "Python 3 (ipykernel)",
   "language": "python",
   "name": "python3"
  },
  "language_info": {
   "codemirror_mode": {
    "name": "ipython",
    "version": 3
   },
   "file_extension": ".py",
   "mimetype": "text/x-python",
   "name": "python",
   "nbconvert_exporter": "python",
   "pygments_lexer": "ipython3",
   "version": "3.9.12"
  }
 },
 "nbformat": 4,
 "nbformat_minor": 5
}
